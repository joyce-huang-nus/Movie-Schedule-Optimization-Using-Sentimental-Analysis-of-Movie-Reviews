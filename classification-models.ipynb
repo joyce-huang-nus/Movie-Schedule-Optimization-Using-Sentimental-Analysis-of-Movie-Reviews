{
 "cells": [
  {
   "cell_type": "code",
   "execution_count": 1,
   "metadata": {},
   "outputs": [],
   "source": [
    "import pandas as pd\n",
    "import numpy as np\n",
    "import matplotlib.pyplot as plt\n",
    "from sklearn.model_selection import train_test_split\n",
    "from collections import defaultdict\n",
    "import re\n",
    "\n",
    "import warnings\n",
    "warnings.filterwarnings('ignore')"
   ]
  },
  {
   "cell_type": "code",
   "execution_count": 2,
   "metadata": {
    "scrolled": true
   },
   "outputs": [
    {
     "name": "stdout",
     "output_type": "stream",
     "text": [
      "(59498, 8)\n"
     ]
    },
    {
     "data": {
      "text/html": [
       "<div>\n",
       "<style scoped>\n",
       "    .dataframe tbody tr th:only-of-type {\n",
       "        vertical-align: middle;\n",
       "    }\n",
       "\n",
       "    .dataframe tbody tr th {\n",
       "        vertical-align: top;\n",
       "    }\n",
       "\n",
       "    .dataframe thead th {\n",
       "        text-align: right;\n",
       "    }\n",
       "</style>\n",
       "<table border=\"1\" class=\"dataframe\">\n",
       "  <thead>\n",
       "    <tr style=\"text-align: right;\">\n",
       "      <th></th>\n",
       "      <th>rotten_tomatoes_link</th>\n",
       "      <th>critic_name</th>\n",
       "      <th>top_critic</th>\n",
       "      <th>publisher_name</th>\n",
       "      <th>review_type</th>\n",
       "      <th>review_score</th>\n",
       "      <th>review_date</th>\n",
       "      <th>review_content</th>\n",
       "    </tr>\n",
       "  </thead>\n",
       "  <tbody>\n",
       "    <tr>\n",
       "      <th>0</th>\n",
       "      <td>m/0814255</td>\n",
       "      <td>Greg Maki</td>\n",
       "      <td>False</td>\n",
       "      <td>Star-Democrat (Easton, MD)</td>\n",
       "      <td>Rotten</td>\n",
       "      <td>D+</td>\n",
       "      <td>2011/11/5</td>\n",
       "      <td>The premise of Percy Jackson &amp; the Olympians: ...</td>\n",
       "    </tr>\n",
       "    <tr>\n",
       "      <th>1</th>\n",
       "      <td>m/0878835</td>\n",
       "      <td>Candice Frederick</td>\n",
       "      <td>False</td>\n",
       "      <td>Reel Talk Online</td>\n",
       "      <td>Fresh</td>\n",
       "      <td>A-</td>\n",
       "      <td>2017/9/11</td>\n",
       "      <td>Funny at times, Please Give is a surprisingly ...</td>\n",
       "    </tr>\n",
       "    <tr>\n",
       "      <th>2</th>\n",
       "      <td>m/1000013-12_angry_men</td>\n",
       "      <td>Dennis Schwartz</td>\n",
       "      <td>False</td>\n",
       "      <td>Dennis Schwartz Movie Reviews</td>\n",
       "      <td>Fresh</td>\n",
       "      <td>B</td>\n",
       "      <td>2011/5/12</td>\n",
       "      <td>Lumet keeps things tense, sweaty, suspenseful ...</td>\n",
       "    </tr>\n",
       "  </tbody>\n",
       "</table>\n",
       "</div>"
      ],
      "text/plain": [
       "     rotten_tomatoes_link        critic_name  top_critic  \\\n",
       "0               m/0814255          Greg Maki       False   \n",
       "1               m/0878835  Candice Frederick       False   \n",
       "2  m/1000013-12_angry_men    Dennis Schwartz       False   \n",
       "\n",
       "                  publisher_name review_type review_score review_date  \\\n",
       "0     Star-Democrat (Easton, MD)      Rotten           D+   2011/11/5   \n",
       "1               Reel Talk Online       Fresh           A-   2017/9/11   \n",
       "2  Dennis Schwartz Movie Reviews       Fresh            B   2011/5/12   \n",
       "\n",
       "                                      review_content  \n",
       "0  The premise of Percy Jackson & the Olympians: ...  \n",
       "1  Funny at times, Please Give is a surprisingly ...  \n",
       "2  Lumet keeps things tense, sweaty, suspenseful ...  "
      ]
     },
     "execution_count": 2,
     "metadata": {},
     "output_type": "execute_result"
    }
   ],
   "source": [
    "df = pd.read_csvdf = pd.read_csv(r'C:\\Users\\Joyce Huang\\Downloads\\DBA5106 - Foundations in BA\\group-assignment\\tomato-2011-2020.csv')\n",
    "print(df.shape)\n",
    "df.head(3)"
   ]
  },
  {
   "cell_type": "code",
   "execution_count": 3,
   "metadata": {},
   "outputs": [
    {
     "data": {
      "text/html": [
       "<div>\n",
       "<style scoped>\n",
       "    .dataframe tbody tr th:only-of-type {\n",
       "        vertical-align: middle;\n",
       "    }\n",
       "\n",
       "    .dataframe tbody tr th {\n",
       "        vertical-align: top;\n",
       "    }\n",
       "\n",
       "    .dataframe thead th {\n",
       "        text-align: right;\n",
       "    }\n",
       "</style>\n",
       "<table border=\"1\" class=\"dataframe\">\n",
       "  <thead>\n",
       "    <tr style=\"text-align: right;\">\n",
       "      <th></th>\n",
       "      <th>rotten_tomatoes_link</th>\n",
       "      <th>critic_name</th>\n",
       "      <th>top_critic</th>\n",
       "      <th>publisher_name</th>\n",
       "      <th>review_type</th>\n",
       "      <th>review_score</th>\n",
       "      <th>review_date</th>\n",
       "      <th>review_content</th>\n",
       "      <th>score</th>\n",
       "    </tr>\n",
       "  </thead>\n",
       "  <tbody>\n",
       "    <tr>\n",
       "      <th>0</th>\n",
       "      <td>m/0814255</td>\n",
       "      <td>Greg Maki</td>\n",
       "      <td>False</td>\n",
       "      <td>Star-Democrat (Easton, MD)</td>\n",
       "      <td>Rotten</td>\n",
       "      <td>D+</td>\n",
       "      <td>2011/11/5</td>\n",
       "      <td>The premise of Percy Jackson &amp; the Olympians: ...</td>\n",
       "      <td>4</td>\n",
       "    </tr>\n",
       "    <tr>\n",
       "      <th>1</th>\n",
       "      <td>m/0878835</td>\n",
       "      <td>Candice Frederick</td>\n",
       "      <td>False</td>\n",
       "      <td>Reel Talk Online</td>\n",
       "      <td>Fresh</td>\n",
       "      <td>A-</td>\n",
       "      <td>2017/9/11</td>\n",
       "      <td>Funny at times, Please Give is a surprisingly ...</td>\n",
       "      <td>11</td>\n",
       "    </tr>\n",
       "    <tr>\n",
       "      <th>2</th>\n",
       "      <td>m/1000013-12_angry_men</td>\n",
       "      <td>Dennis Schwartz</td>\n",
       "      <td>False</td>\n",
       "      <td>Dennis Schwartz Movie Reviews</td>\n",
       "      <td>Fresh</td>\n",
       "      <td>B</td>\n",
       "      <td>2011/5/12</td>\n",
       "      <td>Lumet keeps things tense, sweaty, suspenseful ...</td>\n",
       "      <td>9</td>\n",
       "    </tr>\n",
       "    <tr>\n",
       "      <th>3</th>\n",
       "      <td>m/1000013-12_angry_men</td>\n",
       "      <td>Chris Stuckmann</td>\n",
       "      <td>False</td>\n",
       "      <td>ChrisStuckmann.com</td>\n",
       "      <td>Fresh</td>\n",
       "      <td>A</td>\n",
       "      <td>2018/1/26</td>\n",
       "      <td>This movie is a masterpiece. That term gets th...</td>\n",
       "      <td>12</td>\n",
       "    </tr>\n",
       "    <tr>\n",
       "      <th>4</th>\n",
       "      <td>m/1000079-20000_leagues_under_the_sea</td>\n",
       "      <td>Dennis Schwartz</td>\n",
       "      <td>False</td>\n",
       "      <td>Dennis Schwartz Movie Reviews</td>\n",
       "      <td>Fresh</td>\n",
       "      <td>B+</td>\n",
       "      <td>2012/5/31</td>\n",
       "      <td>A good one that could have been better with a ...</td>\n",
       "      <td>10</td>\n",
       "    </tr>\n",
       "  </tbody>\n",
       "</table>\n",
       "</div>"
      ],
      "text/plain": [
       "                    rotten_tomatoes_link        critic_name  top_critic  \\\n",
       "0                              m/0814255          Greg Maki       False   \n",
       "1                              m/0878835  Candice Frederick       False   \n",
       "2                 m/1000013-12_angry_men    Dennis Schwartz       False   \n",
       "3                 m/1000013-12_angry_men    Chris Stuckmann       False   \n",
       "4  m/1000079-20000_leagues_under_the_sea    Dennis Schwartz       False   \n",
       "\n",
       "                  publisher_name review_type review_score review_date  \\\n",
       "0     Star-Democrat (Easton, MD)      Rotten           D+   2011/11/5   \n",
       "1               Reel Talk Online       Fresh           A-   2017/9/11   \n",
       "2  Dennis Schwartz Movie Reviews       Fresh            B   2011/5/12   \n",
       "3             ChrisStuckmann.com       Fresh            A   2018/1/26   \n",
       "4  Dennis Schwartz Movie Reviews       Fresh           B+   2012/5/31   \n",
       "\n",
       "                                      review_content  score  \n",
       "0  The premise of Percy Jackson & the Olympians: ...      4  \n",
       "1  Funny at times, Please Give is a surprisingly ...     11  \n",
       "2  Lumet keeps things tense, sweaty, suspenseful ...      9  \n",
       "3  This movie is a masterpiece. That term gets th...     12  \n",
       "4  A good one that could have been better with a ...     10  "
      ]
     },
     "metadata": {},
     "output_type": "display_data"
    }
   ],
   "source": [
    "score = []\n",
    "\n",
    "for row in df['review_score']:\n",
    "    if row == 'A':\n",
    "        score.append(12)\n",
    "    elif row == 'A-':\n",
    "        score.append(11)\n",
    "    elif row == 'B+':\n",
    "        score.append(10)\n",
    "    elif row == 'B':\n",
    "        score.append(9)\n",
    "    elif row == 'B-':\n",
    "        score.append(8)\n",
    "    elif row == 'C+':\n",
    "        score.append(7)\n",
    "    elif row == 'C':\n",
    "        score.append(6)\n",
    "    elif row == 'C-':\n",
    "        score.append(5)\n",
    "    elif row == 'D+':\n",
    "        score.append(4)\n",
    "    elif row == 'D':\n",
    "        score.append(3)\n",
    "    elif row == 'D-':\n",
    "        score.append(2)\n",
    "    elif row == 'F':\n",
    "        score.append(1)    \n",
    "    else:\n",
    "        score.append(0)\n",
    "\n",
    "df['score'] = score\n",
    "display(df.head())"
   ]
  },
  {
   "cell_type": "code",
   "execution_count": 4,
   "metadata": {},
   "outputs": [
    {
     "data": {
      "text/html": [
       "<div>\n",
       "<style scoped>\n",
       "    .dataframe tbody tr th:only-of-type {\n",
       "        vertical-align: middle;\n",
       "    }\n",
       "\n",
       "    .dataframe tbody tr th {\n",
       "        vertical-align: top;\n",
       "    }\n",
       "\n",
       "    .dataframe thead th {\n",
       "        text-align: right;\n",
       "    }\n",
       "</style>\n",
       "<table border=\"1\" class=\"dataframe\">\n",
       "  <thead>\n",
       "    <tr style=\"text-align: right;\">\n",
       "      <th></th>\n",
       "      <th>rotten_tomatoes_link</th>\n",
       "      <th>critic_name</th>\n",
       "      <th>top_critic</th>\n",
       "      <th>publisher_name</th>\n",
       "      <th>review_type</th>\n",
       "      <th>review_score</th>\n",
       "      <th>review_date</th>\n",
       "      <th>review_content</th>\n",
       "      <th>score</th>\n",
       "      <th>sentiment</th>\n",
       "    </tr>\n",
       "  </thead>\n",
       "  <tbody>\n",
       "    <tr>\n",
       "      <th>0</th>\n",
       "      <td>m/0814255</td>\n",
       "      <td>Greg Maki</td>\n",
       "      <td>False</td>\n",
       "      <td>Star-Democrat (Easton, MD)</td>\n",
       "      <td>Rotten</td>\n",
       "      <td>D+</td>\n",
       "      <td>2011/11/5</td>\n",
       "      <td>The premise of Percy Jackson &amp; the Olympians: ...</td>\n",
       "      <td>4</td>\n",
       "      <td>0</td>\n",
       "    </tr>\n",
       "    <tr>\n",
       "      <th>1</th>\n",
       "      <td>m/0878835</td>\n",
       "      <td>Candice Frederick</td>\n",
       "      <td>False</td>\n",
       "      <td>Reel Talk Online</td>\n",
       "      <td>Fresh</td>\n",
       "      <td>A-</td>\n",
       "      <td>2017/9/11</td>\n",
       "      <td>Funny at times, Please Give is a surprisingly ...</td>\n",
       "      <td>11</td>\n",
       "      <td>1</td>\n",
       "    </tr>\n",
       "    <tr>\n",
       "      <th>2</th>\n",
       "      <td>m/1000013-12_angry_men</td>\n",
       "      <td>Dennis Schwartz</td>\n",
       "      <td>False</td>\n",
       "      <td>Dennis Schwartz Movie Reviews</td>\n",
       "      <td>Fresh</td>\n",
       "      <td>B</td>\n",
       "      <td>2011/5/12</td>\n",
       "      <td>Lumet keeps things tense, sweaty, suspenseful ...</td>\n",
       "      <td>9</td>\n",
       "      <td>1</td>\n",
       "    </tr>\n",
       "  </tbody>\n",
       "</table>\n",
       "</div>"
      ],
      "text/plain": [
       "     rotten_tomatoes_link        critic_name  top_critic  \\\n",
       "0               m/0814255          Greg Maki       False   \n",
       "1               m/0878835  Candice Frederick       False   \n",
       "2  m/1000013-12_angry_men    Dennis Schwartz       False   \n",
       "\n",
       "                  publisher_name review_type review_score review_date  \\\n",
       "0     Star-Democrat (Easton, MD)      Rotten           D+   2011/11/5   \n",
       "1               Reel Talk Online       Fresh           A-   2017/9/11   \n",
       "2  Dennis Schwartz Movie Reviews       Fresh            B   2011/5/12   \n",
       "\n",
       "                                      review_content  score  sentiment  \n",
       "0  The premise of Percy Jackson & the Olympians: ...      4          0  \n",
       "1  Funny at times, Please Give is a surprisingly ...     11          1  \n",
       "2  Lumet keeps things tense, sweaty, suspenseful ...      9          1  "
      ]
     },
     "execution_count": 4,
     "metadata": {},
     "output_type": "execute_result"
    }
   ],
   "source": [
    "# review_type:Fresh好評轉換成數字1, Rotten壞評轉換成0\n",
    "df['sentiment'] = np.where(df['review_type'] == 'Fresh', 1, 0)\n",
    "df.head(3)"
   ]
  },
  {
   "cell_type": "code",
   "execution_count": 5,
   "metadata": {},
   "outputs": [
    {
     "data": {
      "text/html": [
       "<div>\n",
       "<style scoped>\n",
       "    .dataframe tbody tr th:only-of-type {\n",
       "        vertical-align: middle;\n",
       "    }\n",
       "\n",
       "    .dataframe tbody tr th {\n",
       "        vertical-align: top;\n",
       "    }\n",
       "\n",
       "    .dataframe thead th {\n",
       "        text-align: right;\n",
       "    }\n",
       "</style>\n",
       "<table border=\"1\" class=\"dataframe\">\n",
       "  <thead>\n",
       "    <tr style=\"text-align: right;\">\n",
       "      <th></th>\n",
       "      <th>review_content</th>\n",
       "      <th>sentiment</th>\n",
       "    </tr>\n",
       "  </thead>\n",
       "  <tbody>\n",
       "    <tr>\n",
       "      <th>0</th>\n",
       "      <td>The premise of Percy Jackson &amp; the Olympians: ...</td>\n",
       "      <td>0</td>\n",
       "    </tr>\n",
       "    <tr>\n",
       "      <th>1</th>\n",
       "      <td>Funny at times, Please Give is a surprisingly ...</td>\n",
       "      <td>1</td>\n",
       "    </tr>\n",
       "    <tr>\n",
       "      <th>2</th>\n",
       "      <td>Lumet keeps things tense, sweaty, suspenseful ...</td>\n",
       "      <td>1</td>\n",
       "    </tr>\n",
       "    <tr>\n",
       "      <th>3</th>\n",
       "      <td>This movie is a masterpiece. That term gets th...</td>\n",
       "      <td>1</td>\n",
       "    </tr>\n",
       "    <tr>\n",
       "      <th>4</th>\n",
       "      <td>A good one that could have been better with a ...</td>\n",
       "      <td>1</td>\n",
       "    </tr>\n",
       "  </tbody>\n",
       "</table>\n",
       "</div>"
      ],
      "text/plain": [
       "                                      review_content  sentiment\n",
       "0  The premise of Percy Jackson & the Olympians: ...          0\n",
       "1  Funny at times, Please Give is a surprisingly ...          1\n",
       "2  Lumet keeps things tense, sweaty, suspenseful ...          1\n",
       "3  This movie is a masterpiece. That term gets th...          1\n",
       "4  A good one that could have been better with a ...          1"
      ]
     },
     "execution_count": 5,
     "metadata": {},
     "output_type": "execute_result"
    }
   ],
   "source": [
    "review_df = df[['review_content','sentiment']]\n",
    "review_df.head()"
   ]
  },
  {
   "cell_type": "code",
   "execution_count": 6,
   "metadata": {},
   "outputs": [
    {
     "data": {
      "text/plain": [
       "1    38922\n",
       "0    20576\n",
       "Name: sentiment, dtype: int64"
      ]
     },
     "execution_count": 6,
     "metadata": {},
     "output_type": "execute_result"
    }
   ],
   "source": [
    "review_df['sentiment'].value_counts()"
   ]
  },
  {
   "cell_type": "code",
   "execution_count": 7,
   "metadata": {},
   "outputs": [
    {
     "name": "stdout",
     "output_type": "stream",
     "text": [
      "(42000,) (42000,)\n",
      "(17498,) (17498,)\n"
     ]
    }
   ],
   "source": [
    "#split the dataset  \n",
    "#train dataset\n",
    "training_reviews = review_df.review_content[:42000]\n",
    "training_sentiment = review_df.sentiment[:42000]\n",
    "#test dataset\n",
    "testing_reviews = review_df.review_content[42000:]\n",
    "testing_sentiment = review_df.sentiment[42000:]\n",
    "\n",
    "print(training_reviews.shape, training_sentiment.shape)\n",
    "print(testing_reviews.shape, testing_sentiment.shape)"
   ]
  },
  {
   "cell_type": "code",
   "execution_count": 8,
   "metadata": {},
   "outputs": [
    {
     "name": "stderr",
     "output_type": "stream",
     "text": [
      "[nltk_data] Downloading package stopwords to C:\\Users\\Joyce\n",
      "[nltk_data]     Huang\\AppData\\Roaming\\nltk_data...\n",
      "[nltk_data]   Package stopwords is already up-to-date!\n"
     ]
    },
    {
     "data": {
      "text/plain": [
       "True"
      ]
     },
     "execution_count": 8,
     "metadata": {},
     "output_type": "execute_result"
    }
   ],
   "source": [
    "import nltk\n",
    "from nltk.tokenize.toktok import ToktokTokenizer\n",
    "from nltk.corpus import stopwords\n",
    "from bs4 import BeautifulSoup\n",
    "from sklearn.feature_extraction.text import CountVectorizer\n",
    "from sklearn.feature_extraction.text import TfidfVectorizer\n",
    "from sklearn.preprocessing import LabelBinarizer\n",
    "nltk.download('stopwords')"
   ]
  },
  {
   "cell_type": "code",
   "execution_count": 9,
   "metadata": {},
   "outputs": [],
   "source": [
    "#Tokenization of text\n",
    "tokenizer=ToktokTokenizer()\n",
    "#Setting English stopwords\n",
    "stopword_list=nltk.corpus.stopwords.words('english')"
   ]
  },
  {
   "cell_type": "code",
   "execution_count": 10,
   "metadata": {},
   "outputs": [],
   "source": [
    "#Removing the html strips\n",
    "def strip_html(text):\n",
    "    soup = BeautifulSoup(text, \"html.parser\")\n",
    "    return soup.get_text()\n",
    "\n",
    "#Removing the square brackets\n",
    "def remove_between_square_brackets(text):\n",
    "    return re.sub('\\[[^]]*\\]', '', text)\n",
    "\n",
    "#Removing the noisy text\n",
    "def denoise_text(text):\n",
    "    text = strip_html(text)\n",
    "    text = remove_between_square_brackets(text)\n",
    "    return text\n",
    "\n",
    "#Apply function on review column\n",
    "review_df['review_content'] = review_df['review_content'].apply(denoise_text)"
   ]
  },
  {
   "cell_type": "code",
   "execution_count": 11,
   "metadata": {},
   "outputs": [],
   "source": [
    "#Define function for removing special characters\n",
    "# def remove_special_characters(text, remove_digits=True):\n",
    "#     pattern=r'[^a-zA-z0-9\\s]'\n",
    "#     text=re.sub(pattern,'',text)\n",
    "#     return text\n",
    "#Apply function on review column\n",
    "# review_df['review_content']=review_df['review_content'].apply(remove_special_characters)"
   ]
  },
  {
   "cell_type": "code",
   "execution_count": 12,
   "metadata": {},
   "outputs": [],
   "source": [
    "#Stemming the text\n",
    "# def simple_stemmer(text):\n",
    "#     ps=nltk.porter.PorterStemmer()\n",
    "#     text= ' '.join([ps.stem(word) for word in text.split()])\n",
    "#     return text\n",
    "#Apply function on review column\n",
    "# review_df['review_content']=review_df['review_content'].apply(simple_stemmer)"
   ]
  },
  {
   "cell_type": "code",
   "execution_count": 13,
   "metadata": {},
   "outputs": [
    {
     "name": "stdout",
     "output_type": "stream",
     "text": [
      "{'her', 'through', 'until', \"mightn't\", 'no', 'each', 'do', 'me', \"she's\", 'had', 'only', 'about', 'an', 'here', 'don', 'it', 'themselves', 'couldn', 'have', 'more', 'out', 'being', \"isn't\", 'myself', 'from', \"didn't\", 'theirs', 'having', 'your', 'been', 'so', 'himself', 'him', 'into', 'they', 'in', 'won', 'once', 'there', \"weren't\", 't', 'be', 'above', 'other', 'wasn', 'hadn', 'the', 'that', 'of', 'mightn', \"won't\", 'should', \"you'll\", 'yours', 'haven', 'is', 'whom', 'did', 'while', 'any', 'over', 'during', 'or', 'shouldn', 'she', 'with', 'both', \"you've\", 'now', 'aren', 'am', 'between', 'ma', 'his', 'own', \"doesn't\", 'y', 'are', 'below', 'down', 'again', 'shan', 'ourselves', 'after', 'wouldn', 'he', \"wouldn't\", 'ain', 'has', 'off', 'very', \"you'd\", 'a', 'hers', 'same', \"you're\", 'their', 'which', 'we', \"wasn't\", 'my', 'few', 'all', \"haven't\", 'for', 'does', 'where', 'd', 'isn', \"needn't\", 'm', \"shouldn't\", \"aren't\", 'mustn', 'weren', 'then', 'some', 'will', \"it's\", 'who', 'against', 'how', 'further', 'these', 'our', 'nor', \"don't\", 'before', 'most', 'were', 'such', 's', 'them', 've', 'can', \"couldn't\", 'those', \"should've\", 'why', 'just', 'hasn', 'you', 'up', 'i', 'o', \"shan't\", 'on', 'll', 'yourselves', \"hasn't\", 'yourself', 're', \"mustn't\", 'too', 'ours', 'and', 'didn', 'doesn', 'when', 'what', 'but', 'to', 'not', 'than', \"hadn't\", 'by', 'this', 'herself', 'because', 'doing', 'was', 'if', 'at', 'its', 'itself', 'needn', \"that'll\", 'under', 'as'}\n"
     ]
    }
   ],
   "source": [
    "#set stopwords to english\n",
    "stop=set(stopwords.words('english'))\n",
    "print(stop)"
   ]
  },
  {
   "cell_type": "code",
   "execution_count": 14,
   "metadata": {},
   "outputs": [
    {
     "data": {
      "text/plain": [
       "'The premise of Percy Jackson & the Olympians: The Lightning Thief holds great potential potential the film never realizes.'"
      ]
     },
     "execution_count": 14,
     "metadata": {},
     "output_type": "execute_result"
    }
   ],
   "source": [
    "#normalized train reviews\n",
    "norm_train_reviews=review_df.review_content[:42000]\n",
    "norm_train_reviews[0]\n"
   ]
  },
  {
   "cell_type": "code",
   "execution_count": 15,
   "metadata": {},
   "outputs": [
    {
     "data": {
      "text/plain": [
       "'The Force Awakens is meant to honour the past and lead us into a new narrative future. It feels like what people feel a Star Wars film is supposed to feel like. The Force is strong with this one.'"
      ]
     },
     "execution_count": 15,
     "metadata": {},
     "output_type": "execute_result"
    }
   ],
   "source": [
    "#Normalized test reviews\n",
    "norm_test_reviews=review_df.review_content[42000:]\n",
    "norm_test_reviews[45005]"
   ]
  },
  {
   "cell_type": "code",
   "execution_count": 16,
   "metadata": {},
   "outputs": [
    {
     "name": "stdout",
     "output_type": "stream",
     "text": [
      "BOW_cv_train: (42000, 784448)\n",
      "BOW_cv_test: (17498, 784448)\n"
     ]
    }
   ],
   "source": [
    "#Count vectorizer for bag of words\n",
    "cv=CountVectorizer(min_df=0,max_df=1,binary=False,ngram_range=(1,3))\n",
    "#transformed train reviews\n",
    "cv_train_reviews=cv.fit_transform(norm_train_reviews)\n",
    "#transformed test reviews\n",
    "cv_test_reviews=cv.transform(norm_test_reviews)\n",
    "\n",
    "print('BOW_cv_train:',cv_train_reviews.shape)\n",
    "print('BOW_cv_test:',cv_test_reviews.shape)\n",
    "#vocab=cv.get_feature_names()-toget feature names"
   ]
  },
  {
   "cell_type": "code",
   "execution_count": 17,
   "metadata": {},
   "outputs": [
    {
     "name": "stdout",
     "output_type": "stream",
     "text": [
      "Tfidf_train: (42000, 784448)\n",
      "Tfidf_test: (17498, 784448)\n"
     ]
    }
   ],
   "source": [
    "#Tfidf vectorizer\n",
    "tv=TfidfVectorizer(min_df=0,max_df=1,use_idf=True,ngram_range=(1,3))\n",
    "#transformed train reviews\n",
    "tv_train_reviews=tv.fit_transform(norm_train_reviews)\n",
    "#transformed test reviews\n",
    "tv_test_reviews=tv.transform(norm_test_reviews)\n",
    "print('Tfidf_train:',tv_train_reviews.shape)\n",
    "print('Tfidf_test:',tv_test_reviews.shape)"
   ]
  },
  {
   "cell_type": "code",
   "execution_count": 18,
   "metadata": {},
   "outputs": [
    {
     "name": "stdout",
     "output_type": "stream",
     "text": [
      "(59498, 1)\n"
     ]
    }
   ],
   "source": [
    "#labeling the sentient data\n",
    "lb=LabelBinarizer()\n",
    "#transformed sentiment data\n",
    "sentiment_data=lb.fit_transform(review_df['sentiment'])\n",
    "print(sentiment_data.shape)"
   ]
  },
  {
   "cell_type": "code",
   "execution_count": 19,
   "metadata": {},
   "outputs": [
    {
     "name": "stdout",
     "output_type": "stream",
     "text": [
      "[[0]\n",
      " [1]\n",
      " [1]\n",
      " ...\n",
      " [0]\n",
      " [0]\n",
      " [1]]\n",
      "[[1]\n",
      " [1]\n",
      " [1]\n",
      " ...\n",
      " [0]\n",
      " [0]\n",
      " [1]]\n"
     ]
    }
   ],
   "source": [
    "#Spliting the sentiment data\n",
    "train_sentiments=sentiment_data[:42000]\n",
    "test_sentiments=sentiment_data[42000:]\n",
    "print(train_sentiments)\n",
    "print(test_sentiments)"
   ]
  },
  {
   "cell_type": "code",
   "execution_count": 71,
   "metadata": {},
   "outputs": [],
   "source": [
    "from sklearn.linear_model import LogisticRegression,SGDClassifier\n",
    "from sklearn.metrics import classification_report,confusion_matrix,accuracy_score,roc_auc_score, \n",
    "from sklearn.naive_bayes import MultinomialNB\n",
    "from sklearn.neighbors import KNeighborsClassifier\n",
    "from sklearn.model_selection import cross_val_score\n",
    "from sklearn.model_selection import GridSearchCV\n",
    "from sklearn.model_selection import KFold\n",
    "from sklearn import feature_selection\n",
    "from sklearn import model_selection\n",
    "from sklearn import metrics\n",
    "from sklearn.metrics import auc, roc_auc_score, roc_curve\n",
    "from sklearn.metrics import confusion_matrix\n",
    "from sklearn.metrics import ConfusionMatrixDisplay"
   ]
  },
  {
   "cell_type": "code",
   "execution_count": 75,
   "metadata": {},
   "outputs": [
    {
     "name": "stdout",
     "output_type": "stream",
     "text": [
      "KNeighborsClassifier(n_neighbors=3)\n",
      "KNeighborsClassifier(n_neighbors=3)\n"
     ]
    }
   ],
   "source": [
    "knn = KNeighborsClassifier(n_neighbors=3)\n",
    "knn_bow = knn.fit(cv_train_reviews,train_sentiments)\n",
    "print(knn_bow)\n",
    "knn_tfidf = knn.fit(tv_train_reviews,train_sentiments)\n",
    "print(knn_tfidf)"
   ]
  },
  {
   "cell_type": "code",
   "execution_count": 76,
   "metadata": {},
   "outputs": [
    {
     "name": "stdout",
     "output_type": "stream",
     "text": [
      "[1 1 1 ... 1 1 1]\n",
      "[1 1 1 ... 1 1 1]\n",
      "[1 1 1 ... 1 1 1]\n",
      "[1 1 1 ... 1 1 1]\n"
     ]
    }
   ],
   "source": [
    "#Predicting the model for bag of words\n",
    "knn_bow_predict=knn.predict(cv_test_reviews)\n",
    "print(knn_bow_predict)\n",
    "##Predicting the model for tfidf features\n",
    "knn_tfidf_predict=knn.predict(tv_test_reviews)\n",
    "print(knn_tfidf_predict)\n",
    "\n",
    "#Training y_pred\n",
    "#Predicting the model for bag of words\n",
    "knn_bow_predict_train=knn.predict(cv_train_reviews)\n",
    "print(knn_bow_predict_train)\n",
    "#Predicting the model for tfidf features\n",
    "knn_tfidf_predict_train=knn.predict(tv_train_reviews)\n",
    "print(knn_tfidf_predict_train)"
   ]
  },
  {
   "cell_type": "code",
   "execution_count": 77,
   "metadata": {},
   "outputs": [
    {
     "name": "stdout",
     "output_type": "stream",
     "text": [
      "knn_bow_score : 0.646073837009944\n",
      "knn_tfidf_score : 0.6457880900674363\n",
      "knn_bow_score : 0.6576666666666666\n",
      "knn_tfidf_score : 0.6576666666666666\n"
     ]
    }
   ],
   "source": [
    "#Accuracy score for bag of words\n",
    "knn_bow_score=accuracy_score(test_sentiments,knn_bow_predict)\n",
    "print(\"knn_bow_score :\",knn_bow_score)\n",
    "#Accuracy score for tfidf features\n",
    "knn_tfidf_score=accuracy_score(test_sentiments,knn_tfidf_predict)\n",
    "print(\"knn_tfidf_score :\",knn_tfidf_score)\n",
    "\n",
    "#Training Accuracy score\n",
    "#Accuracy score for bag of words\n",
    "knn_bow_score_train=accuracy_score(train_sentiments,knn_bow_predict_train)\n",
    "print(\"knn_bow_score :\",knn_bow_score_train)\n",
    "#Accuracy score for tfidf features\n",
    "knn_tfidf_score_train=accuracy_score(train_sentiments,knn_tfidf_predict_train)\n",
    "print(\"knn_tfidf_score :\",knn_tfidf_score_train)"
   ]
  },
  {
   "cell_type": "code",
   "execution_count": 78,
   "metadata": {},
   "outputs": [
    {
     "name": "stdout",
     "output_type": "stream",
     "text": [
      "auc_bow =  0.5005490495078344\n",
      "auc_tfidf =  0.5\n"
     ]
    }
   ],
   "source": [
    "auc_bow = roc_auc_score(test_sentiments,knn_bow_predict)\n",
    "print('auc_bow = ',auc_bow)\n",
    "\n",
    "auc_tfidf = roc_auc_score(test_sentiments,knn_tfidf_predict)\n",
    "print('auc_tfidf = ',auc_tfidf)"
   ]
  },
  {
   "cell_type": "code",
   "execution_count": 83,
   "metadata": {},
   "outputs": [
    {
     "name": "stdout",
     "output_type": "stream",
     "text": [
      "[[    9  6189]\n",
      " [    4 11296]]\n",
      "[[    0  6198]\n",
      " [    0 11300]]\n"
     ]
    },
    {
     "data": {
      "image/png": "[encoded data removed]",
      "text/plain": [
       "<Figure size 432x288 with 2 Axes>"
      ]
     },
     "metadata": {
      "needs_background": "light"
     },
     "output_type": "display_data"
    }
   ],
   "source": [
    "#confusion matrix for bag of words\n",
    "cm_bow=confusion_matrix(test_sentiments,knn_bow_predict,labels=[0,1])\n",
    "print(cm_bow)\n",
    "#confusion matrix for tfidf features\n",
    "cm_tfidf=confusion_matrix(test_sentiments,knn_tfidf_predict,labels=[0,1])\n",
    "print(cm_tfidf)\n",
    "\n",
    "\n",
    "disp_knn = ConfusionMatrixDisplay(confusion_matrix=cm_bow)\n",
    "disp_knn.plot()\n",
    "plt.title('K-nearest neighbors classifier')\n",
    "plt.show()"
   ]
  },
  {
   "cell_type": "code",
   "execution_count": 45,
   "metadata": {},
   "outputs": [
    {
     "name": "stdout",
     "output_type": "stream",
     "text": [
      "LogisticRegression(C=1, max_iter=500, random_state=42)\n",
      "LogisticRegression(C=1, max_iter=500, random_state=42)\n"
     ]
    }
   ],
   "source": [
    "#training the model\n",
    "lr=LogisticRegression(penalty='l2',max_iter=500,C=1,random_state=42)\n",
    "#Fitting the model for Bag of words\n",
    "lr_bow=lr.fit(cv_train_reviews,train_sentiments)\n",
    "print(lr_bow)\n",
    "#Fitting the model for tfidf features\n",
    "lr_tfidf=lr.fit(tv_train_reviews,train_sentiments)\n",
    "print(lr_tfidf)"
   ]
  },
  {
   "cell_type": "code",
   "execution_count": 47,
   "metadata": {},
   "outputs": [
    {
     "name": "stdout",
     "output_type": "stream",
     "text": [
      "[1 1 1 ... 1 1 1]\n",
      "[1 1 1 ... 1 1 1]\n",
      "[0 1 1 ... 1 1 1]\n",
      "[1 1 1 ... 1 1 1]\n"
     ]
    }
   ],
   "source": [
    "#Predicting the model for bag of words\n",
    "lr_bow_predict=lr.predict(cv_test_reviews)\n",
    "print(lr_bow_predict)\n",
    "##Predicting the model for tfidf features\n",
    "lr_tfidf_predict=lr.predict(tv_test_reviews)\n",
    "print(lr_tfidf_predict)\n",
    "\n",
    "#Training y_pred\n",
    "#Predicting the model for bag of words\n",
    "lr_bow_predict_train=lr.predict(cv_train_reviews)\n",
    "print(lr_bow_predict_train)\n",
    "##Predicting the model for tfidf features\n",
    "lr_tfidf_predict_train=lr.predict(tv_train_reviews)\n",
    "print(lr_tfidf_predict_train)"
   ]
  },
  {
   "cell_type": "code",
   "execution_count": 55,
   "metadata": {},
   "outputs": [
    {
     "name": "stdout",
     "output_type": "stream",
     "text": [
      "lr_bow_score : 0.6479026174419934\n",
      "lr_tfidf_score : 0.6457880900674363\n",
      "lr_bow_score_train : 0.9322142857142857\n",
      "lr_tfidf_score_train : 0.6576666666666666\n"
     ]
    }
   ],
   "source": [
    "#Accuracy score for bag of words\n",
    "lr_bow_score=accuracy_score(test_sentiments,lr_bow_predict)\n",
    "print(\"lr_bow_score :\",lr_bow_score)\n",
    "#Accuracy score for tfidf features\n",
    "lr_tfidf_score=accuracy_score(test_sentiments,lr_tfidf_predict)\n",
    "print(\"lr_tfidf_score :\",lr_tfidf_score)\n",
    "\n",
    "#Training data accuracy rate\n",
    "#Accuracy score for bag of words\n",
    "lr_bow_score_train=accuracy_score(train_sentiments,lr_bow_predict_train)\n",
    "print(\"lr_bow_score_train :\",lr_bow_score_train)\n",
    "#Accuracy score for tfidf features\n",
    "lr_tfidf_score_train=accuracy_score(train_sentiments,lr_tfidf_predict_train)\n",
    "print(\"lr_tfidf_score_train :\",lr_tfidf_score_train)"
   ]
  },
  {
   "cell_type": "code",
   "execution_count": 53,
   "metadata": {},
   "outputs": [
    {
     "name": "stdout",
     "output_type": "stream",
     "text": [
      "              precision    recall  f1-score   support\n",
      "\n",
      "    Positive       0.73      0.01      0.02      6198\n",
      "    Negative       0.65      1.00      0.79     11300\n",
      "\n",
      "    accuracy                           0.65     17498\n",
      "   macro avg       0.69      0.50      0.40     17498\n",
      "weighted avg       0.68      0.65      0.51     17498\n",
      "\n",
      "              precision    recall  f1-score   support\n",
      "\n",
      "    Positive       0.00      0.00      0.00      6198\n",
      "    Negative       0.65      1.00      0.78     11300\n",
      "\n",
      "    accuracy                           0.65     17498\n",
      "   macro avg       0.32      0.50      0.39     17498\n",
      "weighted avg       0.42      0.65      0.51     17498\n",
      "\n"
     ]
    }
   ],
   "source": [
    "#Classification report for bag of words \n",
    "lr_bow_report=classification_report(test_sentiments,lr_bow_predict,target_names=['Positive','Negative'])\n",
    "print(lr_bow_report)\n",
    "\n",
    "#Classification report for tfidf features\n",
    "lr_tfidf_report=classification_report(test_sentiments,lr_tfidf_predict,target_names=['Positive','Negative'])\n",
    "print(lr_tfidf_report)"
   ]
  },
  {
   "cell_type": "code",
   "execution_count": 72,
   "metadata": {},
   "outputs": [
    {
     "name": "stdout",
     "output_type": "stream",
     "text": [
      "[[11279    21]\n",
      " [ 6140    58]]\n",
      "[[11300     0]\n",
      " [ 6198     0]]\n"
     ]
    },
    {
     "data": {
      "image/png": "[encoded data removed]",
      "text/plain": [
       "<Figure size 432x288 with 2 Axes>"
      ]
     },
     "metadata": {
      "needs_background": "light"
     },
     "output_type": "display_data"
    }
   ],
   "source": [
    "#confusion matrix for bag of words\n",
    "cm_bow=confusion_matrix(test_sentiments,lr_bow_predict,labels=[1,0])\n",
    "print(cm_bow)\n",
    "#confusion matrix for tfidf features\n",
    "cm_tfidf=confusion_matrix(test_sentiments,lr_tfidf_predict,labels=[1,0])\n",
    "print(cm_tfidf)\n",
    "\n",
    "disp_lr = ConfusionMatrixDisplay(confusion_matrix=cm_bow)\n",
    "disp_lr.plot()\n",
    "plt.title('Logistic Regression')\n",
    "plt.show()"
   ]
  },
  {
   "cell_type": "code",
   "execution_count": 30,
   "metadata": {},
   "outputs": [
    {
     "name": "stdout",
     "output_type": "stream",
     "text": [
      "auc_bow =  0.5037497251468501\n",
      "auc_tfidf =  0.5\n"
     ]
    }
   ],
   "source": [
    "auc_bow = roc_auc_score(test_sentiments,lr_bow_predict)\n",
    "print('auc_bow = ',auc_bow)\n",
    "\n",
    "auc_tfidf = roc_auc_score(test_sentiments,lr_tfidf_predict)\n",
    "print('auc_tfidf = ',auc_tfidf)"
   ]
  },
  {
   "cell_type": "code",
   "execution_count": 57,
   "metadata": {},
   "outputs": [
    {
     "name": "stdout",
     "output_type": "stream",
     "text": [
      "SGDClassifier(max_iter=500, random_state=42)\n",
      "SGDClassifier(max_iter=500, random_state=42)\n"
     ]
    }
   ],
   "source": [
    "#training the linear svm\n",
    "svm=SGDClassifier(loss='hinge',max_iter=500,random_state=42)\n",
    "#fitting the svm for bag of words\n",
    "svm_bow=svm.fit(cv_train_reviews,train_sentiments)\n",
    "print(svm_bow)\n",
    "#fitting the svm for tfidf features\n",
    "svm_tfidf=svm.fit(tv_train_reviews,train_sentiments)\n",
    "print(svm_tfidf)"
   ]
  },
  {
   "cell_type": "code",
   "execution_count": 58,
   "metadata": {},
   "outputs": [
    {
     "name": "stdout",
     "output_type": "stream",
     "text": [
      "[1 1 1 ... 1 1 1]\n",
      "[1 1 1 ... 1 1 1]\n",
      "[0 1 1 ... 1 1 1]\n",
      "[1 1 1 ... 1 1 1]\n"
     ]
    }
   ],
   "source": [
    "#Predicting the model for bag of words\n",
    "svm_bow_predict=svm.predict(cv_test_reviews)\n",
    "print(svm_bow_predict)\n",
    "#Predicting the model for tfidf features\n",
    "svm_tfidf_predict=svm.predict(tv_test_reviews)\n",
    "print(svm_tfidf_predict)\n",
    "\n",
    "#training data y_pred\n",
    "#Predicting the model for bag of words\n",
    "svm_bow_predict_train=svm.predict(cv_train_reviews)\n",
    "print(svm_bow_predict_train)\n",
    "#Predicting the model for tfidf features\n",
    "svm_tfidf_predict_train=svm.predict(tv_train_reviews)\n",
    "print(svm_tfidf_predict_train)"
   ]
  },
  {
   "cell_type": "code",
   "execution_count": 59,
   "metadata": {},
   "outputs": [
    {
     "name": "stdout",
     "output_type": "stream",
     "text": [
      "svm_bow_score : 0.6457880900674363\n",
      "svm_tfidf_score : 0.6457880900674363\n",
      "svm_bow_score_train : 0.8617619047619047\n",
      "svm_tfidf_score_train : 0.6576666666666666\n"
     ]
    }
   ],
   "source": [
    "#Accuracy score for bag of words\n",
    "svm_bow_score=accuracy_score(test_sentiments,svm_bow_predict)\n",
    "print(\"svm_bow_score :\",svm_bow_score)\n",
    "#Accuracy score for tfidf features\n",
    "svm_tfidf_score=accuracy_score(test_sentiments,svm_tfidf_predict)\n",
    "print(\"svm_tfidf_score :\",svm_tfidf_score)\n",
    "\n",
    "#Training data accuracy rate\n",
    "#Accuracy score for bag of words\n",
    "svm_bow_score_train=accuracy_score(train_sentiments,svm_bow_predict_train)\n",
    "print(\"svm_bow_score_train :\",svm_bow_score_train)\n",
    "#Accuracy score for tfidf features\n",
    "svm_tfidf_score_train=accuracy_score(train_sentiments,svm_tfidf_predict_train)\n",
    "print(\"svm_tfidf_score_train :\",svm_tfidf_score_train)"
   ]
  },
  {
   "cell_type": "code",
   "execution_count": 60,
   "metadata": {},
   "outputs": [
    {
     "name": "stdout",
     "output_type": "stream",
     "text": [
      "              precision    recall  f1-score   support\n",
      "\n",
      "    Positive       0.00      0.00      0.00      6198\n",
      "    Negative       0.65      1.00      0.78     11300\n",
      "\n",
      "    accuracy                           0.65     17498\n",
      "   macro avg       0.32      0.50      0.39     17498\n",
      "weighted avg       0.42      0.65      0.51     17498\n",
      "\n",
      "              precision    recall  f1-score   support\n",
      "\n",
      "    Positive       0.00      0.00      0.00      6198\n",
      "    Negative       0.65      1.00      0.78     11300\n",
      "\n",
      "    accuracy                           0.65     17498\n",
      "   macro avg       0.32      0.50      0.39     17498\n",
      "weighted avg       0.42      0.65      0.51     17498\n",
      "\n"
     ]
    }
   ],
   "source": [
    "#Classification report for bag of words \n",
    "svm_bow_report=classification_report(test_sentiments,svm_bow_predict,target_names=['Positive','Negative'])\n",
    "print(svm_bow_report)\n",
    "#Classification report for tfidf features\n",
    "svm_tfidf_report=classification_report(test_sentiments,svm_tfidf_predict,target_names=['Positive','Negative'])\n",
    "print(svm_tfidf_report)"
   ]
  },
  {
   "cell_type": "code",
   "execution_count": 73,
   "metadata": {},
   "outputs": [
    {
     "name": "stdout",
     "output_type": "stream",
     "text": [
      "[[11300     0]\n",
      " [ 6198     0]]\n",
      "[[11300     0]\n",
      " [ 6198     0]]\n"
     ]
    },
    {
     "data": {
      "image/png": "[encoded data removed]",
      "text/plain": [
       "<Figure size 432x288 with 2 Axes>"
      ]
     },
     "metadata": {
      "needs_background": "light"
     },
     "output_type": "display_data"
    }
   ],
   "source": [
    "#confusion matrix for bag of words\n",
    "cm_bow=confusion_matrix(test_sentiments,svm_bow_predict,labels=[1,0])\n",
    "print(cm_bow)\n",
    "#confusion matrix for tfidf features\n",
    "cm_tfidf=confusion_matrix(test_sentiments,svm_tfidf_predict,labels=[1,0])\n",
    "print(cm_tfidf)\n",
    "\n",
    "disp_svm = ConfusionMatrixDisplay(confusion_matrix=cm_bow)\n",
    "disp_svm.plot()\n",
    "plt.title('SVM')\n",
    "plt.show()"
   ]
  },
  {
   "cell_type": "code",
   "execution_count": 62,
   "metadata": {},
   "outputs": [
    {
     "name": "stdout",
     "output_type": "stream",
     "text": [
      "auc_bow =  0.5\n",
      "auc_tfidf =  0.5\n"
     ]
    }
   ],
   "source": [
    "auc_bow = roc_auc_score(test_sentiments,svm_bow_predict)\n",
    "print('auc_bow = ',auc_bow)\n",
    "\n",
    "auc_tfidf = roc_auc_score(test_sentiments,svm_tfidf_predict)\n",
    "print('auc_tfidf = ',auc_tfidf)"
   ]
  },
  {
   "cell_type": "code",
   "execution_count": 63,
   "metadata": {},
   "outputs": [
    {
     "name": "stdout",
     "output_type": "stream",
     "text": [
      "MultinomialNB()\n",
      "MultinomialNB()\n"
     ]
    }
   ],
   "source": [
    "#training the model\n",
    "mnb=MultinomialNB()\n",
    "#fitting the svm for bag of words\n",
    "mnb_bow=mnb.fit(cv_train_reviews,train_sentiments)\n",
    "print(mnb_bow)\n",
    "#fitting the svm for tfidf features\n",
    "mnb_tfidf=mnb.fit(tv_train_reviews,train_sentiments)\n",
    "print(mnb_tfidf)"
   ]
  },
  {
   "cell_type": "code",
   "execution_count": 64,
   "metadata": {},
   "outputs": [
    {
     "name": "stdout",
     "output_type": "stream",
     "text": [
      "[1 1 1 ... 1 1 1]\n",
      "[1 1 1 ... 1 1 1]\n",
      "[0 1 1 ... 1 1 1]\n",
      "[0 1 1 ... 1 1 1]\n"
     ]
    }
   ],
   "source": [
    "#Predicting the model for bag of words\n",
    "mnb_bow_predict=mnb.predict(cv_test_reviews)\n",
    "print(mnb_bow_predict)\n",
    "#Predicting the model for tfidf features\n",
    "mnb_tfidf_predict=mnb.predict(tv_test_reviews)\n",
    "print(mnb_tfidf_predict)\n",
    "\n",
    "#Training data y_pred\n",
    "#Predicting the model for bag of words\n",
    "mnb_bow_predict_train=mnb.predict(cv_train_reviews)\n",
    "print(mnb_bow_predict_train)\n",
    "#Predicting the model for tfidf features\n",
    "mnb_tfidf_predict_train=mnb.predict(tv_train_reviews)\n",
    "print(mnb_tfidf_predict_train)"
   ]
  },
  {
   "cell_type": "code",
   "execution_count": 65,
   "metadata": {},
   "outputs": [
    {
     "name": "stdout",
     "output_type": "stream",
     "text": [
      "mnb_bow_score : 0.6567607726597325\n",
      "mnb_tfidf_score : 0.6472739741684764\n",
      "mnb_bow_score_train : 0.9337857142857143\n",
      "mnb_tfidf_score_train : 0.9337857142857143\n"
     ]
    }
   ],
   "source": [
    "#Accuracy score for bag of words\n",
    "mnb_bow_score=accuracy_score(test_sentiments,mnb_bow_predict)\n",
    "print(\"mnb_bow_score :\",mnb_bow_score)\n",
    "#Accuracy score for tfidf features\n",
    "mnb_tfidf_score=accuracy_score(test_sentiments,mnb_tfidf_predict)\n",
    "print(\"mnb_tfidf_score :\",mnb_tfidf_score)\n",
    "\n",
    "#Training data accuracy rate\n",
    "#Accuracy score for bag of words\n",
    "mnb_bow_score_train=accuracy_score(train_sentiments,mnb_bow_predict_train)\n",
    "print(\"mnb_bow_score_train :\",mnb_bow_score_train)\n",
    "#Accuracy score for tfidf features\n",
    "mnb_tfidf_score_train=accuracy_score(train_sentiments,mnb_tfidf_predict_train)\n",
    "print(\"mnb_tfidf_score_train :\",mnb_tfidf_score_train)"
   ]
  },
  {
   "cell_type": "code",
   "execution_count": 40,
   "metadata": {},
   "outputs": [
    {
     "name": "stdout",
     "output_type": "stream",
     "text": [
      "              precision    recall  f1-score   support\n",
      "\n",
      "    Positive       0.58      0.11      0.18      6198\n",
      "    Negative       0.66      0.96      0.78     11300\n",
      "\n",
      "    accuracy                           0.66     17498\n",
      "   macro avg       0.62      0.53      0.48     17498\n",
      "weighted avg       0.63      0.66      0.57     17498\n",
      "\n",
      "              precision    recall  f1-score   support\n",
      "\n",
      "    Positive       0.86      0.01      0.01      6198\n",
      "    Negative       0.65      1.00      0.79     11300\n",
      "\n",
      "    accuracy                           0.65     17498\n",
      "   macro avg       0.75      0.50      0.40     17498\n",
      "weighted avg       0.72      0.65      0.51     17498\n",
      "\n"
     ]
    }
   ],
   "source": [
    "#Classification report for bag of words \n",
    "mnb_bow_report=classification_report(test_sentiments,mnb_bow_predict,target_names=['Positive','Negative'])\n",
    "print(mnb_bow_report)\n",
    "#Classification report for tfidf features\n",
    "mnb_tfidf_report=classification_report(test_sentiments,mnb_tfidf_predict,target_names=['Positive','Negative'])\n",
    "print(mnb_tfidf_report)"
   ]
  },
  {
   "cell_type": "code",
   "execution_count": 74,
   "metadata": {},
   "outputs": [
    {
     "name": "stdout",
     "output_type": "stream",
     "text": [
      "[[10825   475]\n",
      " [ 5531   667]]\n",
      "[[11295     5]\n",
      " [ 6167    31]]\n"
     ]
    },
    {
     "data": {
      "image/png": "[encoded data removed]",
      "text/plain": [
       "<Figure size 432x288 with 2 Axes>"
      ]
     },
     "metadata": {
      "needs_background": "light"
     },
     "output_type": "display_data"
    }
   ],
   "source": [
    "#confusion matrix for bag of words\n",
    "cm_bow=confusion_matrix(test_sentiments,mnb_bow_predict,labels=[1,0])\n",
    "print(cm_bow)\n",
    "#confusion matrix for tfidf features\n",
    "cm_tfidf=confusion_matrix(test_sentiments,mnb_tfidf_predict,labels=[1,0])\n",
    "print(cm_tfidf)\n",
    "\n",
    "disp_mnb = ConfusionMatrixDisplay(confusion_matrix=cm_bow)\n",
    "disp_mnb.plot()\n",
    "plt.title('Multinomial Naïve Bayes')\n",
    "plt.show()"
   ]
  },
  {
   "cell_type": "code",
   "execution_count": 42,
   "metadata": {},
   "outputs": [
    {
     "name": "stdout",
     "output_type": "stream",
     "text": [
      "auc_bow =  0.5327899807816966\n",
      "auc_tfidf =  0.5022795677737895\n"
     ]
    }
   ],
   "source": [
    "auc_bow = roc_auc_score(test_sentiments,mnb_bow_predict)\n",
    "print('auc_bow = ',auc_bow)\n",
    "\n",
    "auc_tfidf = roc_auc_score(test_sentiments,mnb_tfidf_predict)\n",
    "print('auc_tfidf = ',auc_tfidf)"
   ]
  },
  {
   "cell_type": "code",
   "execution_count": 68,
   "metadata": {},
   "outputs": [
    {
     "name": "stdout",
     "output_type": "stream",
     "text": [
      "Collecting WordCloud\n",
      "  Downloading wordcloud-1.8.1-cp38-cp38-win_amd64.whl (155 kB)\n",
      "Requirement already satisfied: matplotlib in c:\\anaconda\\lib\\site-packages (from WordCloud) (3.3.4)\n",
      "Requirement already satisfied: pillow in c:\\anaconda\\lib\\site-packages (from WordCloud) (8.2.0)\n",
      "Requirement already satisfied: numpy>=1.6.1 in c:\\anaconda\\lib\\site-packages (from WordCloud) (1.20.1)\n",
      "Requirement already satisfied: python-dateutil>=2.1 in c:\\anaconda\\lib\\site-packages (from matplotlib->WordCloud) (2.8.1)\n",
      "Requirement already satisfied: pyparsing!=2.0.4,!=2.1.2,!=2.1.6,>=2.0.3 in c:\\anaconda\\lib\\site-packages (from matplotlib->WordCloud) (2.4.7)\n",
      "Requirement already satisfied: cycler>=0.10 in c:\\anaconda\\lib\\site-packages (from matplotlib->WordCloud) (0.10.0)\n",
      "Requirement already satisfied: kiwisolver>=1.0.1 in c:\\anaconda\\lib\\site-packages (from matplotlib->WordCloud) (1.3.1)\n",
      "Requirement already satisfied: six in c:\\anaconda\\lib\\site-packages (from cycler>=0.10->matplotlib->WordCloud) (1.15.0)\n",
      "Installing collected packages: WordCloud\n",
      "Successfully installed WordCloud-1.8.1\n"
     ]
    }
   ],
   "source": [
    "!pip install WordCloud\n",
    "from wordcloud import WordCloud"
   ]
  },
  {
   "cell_type": "code",
   "execution_count": 69,
   "metadata": {
    "scrolled": true
   },
   "outputs": [
    {
     "data": {
      "text/plain": [
       "<function matplotlib.pyplot.show(close=None, block=None)>"
      ]
     },
     "execution_count": 69,
     "metadata": {},
     "output_type": "execute_result"
    },
    {
     "data": {
      "image/png": "[encoded data removed]",
      "text/plain": [
       "<Figure size 720x720 with 1 Axes>"
      ]
     },
     "metadata": {
      "needs_background": "light"
     },
     "output_type": "display_data"
    }
   ],
   "source": [
    "#word cloud for positive review words\n",
    "plt.figure(figsize=(10,10))\n",
    "positive_text=norm_train_reviews[1]\n",
    "WC=WordCloud(width=1000,height=500,max_words=500,min_font_size=5)\n",
    "positive_words=WC.generate(positive_text)\n",
    "plt.imshow(positive_words,interpolation='bilinear')\n",
    "plt.show"
   ]
  },
  {
   "cell_type": "code",
   "execution_count": 70,
   "metadata": {},
   "outputs": [
    {
     "data": {
      "text/plain": [
       "<function matplotlib.pyplot.show(close=None, block=None)>"
      ]
     },
     "execution_count": 70,
     "metadata": {},
     "output_type": "execute_result"
    },
    {
     "data": {
      "image/png": "[encoded data removed]",
      "text/plain": [
       "<Figure size 720x720 with 1 Axes>"
      ]
     },
     "metadata": {
      "needs_background": "light"
     },
     "output_type": "display_data"
    }
   ],
   "source": [
    "#Word cloud for negative review words\n",
    "plt.figure(figsize=(10,10))\n",
    "negative_text=norm_train_reviews[8]\n",
    "WC=WordCloud(width=1000,height=500,max_words=500,min_font_size=5)\n",
    "negative_words=WC.generate(negative_text)\n",
    "plt.imshow(negative_words,interpolation='bilinear')\n",
    "plt.show"
   ]
  },
  {
   "cell_type": "code",
   "execution_count": null,
   "metadata": {},
   "outputs": [],
   "source": []
  }
 ],
 "metadata": {
  "kernelspec": {
   "display_name": "Python 3",
   "language": "python",
   "name": "python3"
  },
  "language_info": {
   "codemirror_mode": {
    "name": "ipython",
    "version": 3
   },
   "file_extension": ".py",
   "mimetype": "text/x-python",
   "name": "python",
   "nbconvert_exporter": "python",
   "pygments_lexer": "ipython3",
   "version": "3.8.8"
  }
 },
 "nbformat": 4,
 "nbformat_minor": 4
}
